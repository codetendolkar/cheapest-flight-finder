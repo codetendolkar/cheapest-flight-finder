{
 "cells": [
  {
   "cell_type": "markdown",
   "metadata": {},
   "source": [
    "# Becoming a successful Travel Agent"
   ]
  },
  {
   "cell_type": "markdown",
   "metadata": {},
   "source": [
    "In this assignment, we will devise a cheapest flight booking algorithm that beats the some of the worlds best flight booking sites. Specifically, we will find cheapest flights to NYC from various airports with layovers as time steps. A simgle time step optimization means direct flight. Two step means one layover in between. Three steps means 2 layovers in between and so on.\n",
    "\n",
    "Here our states will be airports and control will be choosing a specific airline to a specific airport. Therefore our state update function returns destination of the control chosen. The cost function returns cost of that flight. Note that cost function is additive. For example, if we decide to go BOM-LHR-NYC, the total cost = cost of BOM-LHR + cost of LHR-NYC. To see if our algorithm works, for cost function, we will use actual flight prices for 13th January 2018 from KAYAK website."
   ]
  },
  {
   "cell_type": "code",
   "execution_count": 114,
   "metadata": {},
   "outputs": [
    {
     "name": "stdout",
     "output_type": "stream",
     "text": [
      "Cheapest flight from BOM to NYC costs $990\n",
      "Cheapest flight from NYC to NYC costs $0\n",
      "Cheapest flight from DXB to NYC costs $1102\n",
      "Cheapest flight from LHR to NYC costs $392\n",
      "Cheapest flight from FRA to NYC costs $598\n",
      "Cheapest flight from DOH to NYC costs $1107\n"
     ]
    }
   ],
   "source": [
    "airports = ['BOM', 'NYC', 'DXB', 'LHR', 'FRA', 'DOH']\n",
    "airlines = ['AIR_INDIA', 'BRITISH_AIRWAYS', 'EMIRATES', \n",
    "            'QATAR_AIRWAYS', 'LUFTHANSA']\n",
    "\n",
    "bom = {'AIR_INDIA': [0, 1300, 198, 641, 149000000, 2326],\n",
    "       'BRITISH_AIRWAYS': [0, 149000000, 149000000, 598, \n",
    "                           149000000, 149000000],\n",
    "       'EMIRATES': [0, 149000000, 269, 149000000, 149000000, 149000000],\n",
    "       'QATAR_AIRWAYS': [0, 149000000, 149000000, 149000000, 149000000, 925],\n",
    "       'LUFTHANSA': [0, 149000000, 149000000, 149000000, 1371, 149000000]}\n",
    "\n",
    "nyc = {'AIR_INDIA': [849, 0, 149000000, 390, 149000000, 149000000],\n",
    "       'BRITISH_AIRWAYS': [149000000, 0, 149000000, 1664, \n",
    "                           149000000, 149000000],\n",
    "       'EMIRATES': [149000000, 0, 861, 149000000, 149000000, 149000000],\n",
    "       'QATAR_AIRWAYS': [149000000, 0, 149000000, 149000000, 149000000, 1176],\n",
    "       'LUFTHANSA': [149000000, 0, 149000000, 1667, 2877, 149000000]}\n",
    "\n",
    "dxb = {'AIR_INDIA': [112, 149000000, 0, 149000000, 149000000, 149000000],\n",
    "       'BRITISH_AIRWAYS': [149000000, 149000000, 0, 725, 149000000, 149000000],\n",
    "       'EMIRATES': [128, 1128, 0, 823, 772, 149000000],\n",
    "       'QATAR_AIRWAYS': [149000000, 149000000, 0, 149000000, \n",
    "                         149000000, 149000000],\n",
    "       'LUFTHANSA': [149000000, 149000000, 0, 149000000, 586, 149000000]}\n",
    "\n",
    "lhr = {'AIR_INDIA': [405, 392, 149000000, 0, 149000000, 149000000],\n",
    "       'BRITISH_AIRWAYS': [965, 149000000, 596, 0, 198, 819],\n",
    "       'EMIRATES': [149000000, 149000000, 617, 0, 149000000, 149000000],\n",
    "       'QATAR_AIRWAYS': [149000000, 149000000, 149000000, 0, 149000000, 950],\n",
    "       'LUFTHANSA': [149000000, 1764, 149000000, 0, 281, 149000000]}\n",
    "\n",
    "fra = {'AIR_INDIA': [975, 149000000, 149000000, 149000000, 0, 149000000],\n",
    "       'BRITISH_AIRWAYS': [149000000, 149000000, 149000000, 206, 0, 149000000],\n",
    "       'EMIRATES': [149000000, 149000000, 590, 149000000, 0, 149000000],\n",
    "       'QATAR_AIRWAYS': [149000000, 149000000, 149000000, 149000000, 0, 558],\n",
    "       'LUFTHANSA': [2662, 723, 149000000, 295, 0, 149000000]}\n",
    "\n",
    "doh = {'AIR_INDIA': [166, 149000000, 149000000, 149000000, 149000000, 0],\n",
    "       'BRITISH_AIRWAYS': [149000000, 149000000, 149000000, 715, 149000000, 0],\n",
    "       'EMIRATES': [149000000, 149000000, 149000000, 149000000, 149000000, 0],\n",
    "       'QATAR_AIRWAYS': [223, 1222, 149000000, 771, 616, 0],\n",
    "       'LUFTHANSA': [149000000, 149000000, 149000000, 149000000, 149000000, 0]}\n",
    "\n",
    "price_matrix = {'BOM': bom, 'NYC': nyc, 'DXB': dxb, \n",
    "                'LHR': lhr, 'FRA': fra, 'DOH': doh}\n",
    "\n",
    "\n",
    "# First lets assume a 1 step process i.e. no layover\n",
    "# The minimum cost to reach NYC from each possible state (current airport)\n",
    "# is the minimum cost amongst all airlines going from current airport to NYC\n",
    "# For example, in one step, minimum cost to reach from BOM to NYC will be\n",
    "# minimum of second column of BOM matrix \n",
    "# (each row is prices of particular airline to reach different airports)\n",
    "\n",
    "# Write a function get_direct_lowest_cost_airline(departure, arrival)\n",
    "# which takes input departure and arrival airports and returns the cost of direct flight\n",
    "\n",
    "def get_direct_lowest_cost_airline(departure, arrival):\n",
    "    minimum_cost_to_reach_arrival = 149000000\n",
    "    for airline, prices in price_matrix[departure].items():\n",
    "        if prices[airports.index(arrival)] < minimum_cost_to_reach_arrival:\n",
    "            minimum_cost_to_reach_arrival = prices[airports.index(arrival)]\n",
    "    return minimum_cost_to_reach_arrival\n",
    "\n",
    "\n",
    "# Write a function that returns minimum one step (direct) flight cost to NYC\n",
    "\n",
    "\n",
    "# Write a function that returns 2 step (one layover) flight cost to NYC\n",
    "\n",
    "\n",
    "# Write a function that returns optimal cost (less than N stop) flight to NYC from all airports\n",
    "\n",
    "def optimal_policy(to, max_stops):\n",
    "    minimum_cost_for_zero_stops = [get_direct_lowest_cost_airline(d, to) \n",
    "                                   for d in airports]\n",
    "    if max_stops == 1:\n",
    "        return minimum_cost_for_zero_stops\n",
    "    stops = 1\n",
    "    minimum_cost_for_one_less_stop = minimum_cost_for_zero_stops\n",
    "    while stops <= max_stops:\n",
    "        minimum_cost_airlines_for_all_paths = []\n",
    "        for layover in airports:\n",
    "            index_of_layover_airport = airports.index(layover)\n",
    "            minimum_cost_to_reach_next_stop_from_layover = \\\n",
    "                minimum_cost_for_one_less_stop\n",
    "            minimum_cost_to_reach_layover_airport_by_departures = []\n",
    "            for departure in airports:\n",
    "                temp = minimum_cost_to_reach_next_stop_from_layover[\n",
    "                           index_of_layover_airport] + \\\n",
    "                       get_direct_lowest_cost_airline(departure, layover)\n",
    "                minimum_cost_to_reach_layover_airport_by_departures.append(temp)\n",
    "            minimum_cost_airlines_for_all_paths.append(\n",
    "                minimum_cost_to_reach_layover_airport_by_departures)\n",
    "\n",
    "        minimum_cost_for_departure_to_arrival = [\n",
    "            min([r[i] for r in minimum_cost_airlines_for_all_paths]) for i in\n",
    "                                                 range(len(airports))]\n",
    "        minimum_cost_for_one_less_stop = minimum_cost_for_departure_to_arrival\n",
    "        stops += 1\n",
    "    return minimum_cost_for_one_less_stop\n",
    "\n",
    "\n",
    "cost_to_reach_NYC = optimal_policy('NYC', 2)\n",
    "for d, c in zip(airports, cost_to_reach_NYC):\n",
    "    print(\"Cheapest flight from {} to NYC costs ${}\".format(d, c))"
   ]
  },
  {
   "cell_type": "markdown",
   "metadata": {},
   "source": [
    "Itinerary calculated by our travel agent -   \n",
    "BRITISH AIRWAYS from BOM to LHR - \\$ 598  \n",
    "AIR INDIA from LHR to NYC - \\$ 392  \n",
    "Total cost - \\$ 990  "
   ]
  },
  {
   "cell_type": "markdown",
   "metadata": {},
   "source": [
    "To give you a glimpse of how successful our algorithm was, lets look at what KAYAK, a wellknown flight booking platform, recommends for lowest cost flights from BOM to NYC for same dates for same set of airlines\n",
    "\n",
    "We see that our algorithm has saved alomst \\$ 100 for our customers. Now go ahead and build your own cheapest flight booking website powered by dynamic programming!"
   ]
  },
  {
   "cell_type": "markdown",
   "metadata": {},
   "source": [
    "![title](airline1.png)\n",
    "![title](airline2.png)"
   ]
  }
 ],
 "metadata": {
  "kernelspec": {
   "display_name": "Python 3",
   "language": "python",
   "name": "python3"
  },
  "language_info": {
   "codemirror_mode": {
    "name": "ipython",
    "version": 3
   },
   "file_extension": ".py",
   "mimetype": "text/x-python",
   "name": "python",
   "nbconvert_exporter": "python",
   "pygments_lexer": "ipython3",
   "version": "3.6.3"
  }
 },
 "nbformat": 4,
 "nbformat_minor": 2
}
